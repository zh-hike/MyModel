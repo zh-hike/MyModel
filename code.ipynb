{
 "cells": [
  {
   "cell_type": "code",
   "execution_count": 4,
   "metadata": {},
   "outputs": [
    {
     "data": {
      "text/plain": [
       "{'__header__': b'MATLAB 5.0 MAT-file, Platform: PCWIN64, Created on:',\n",
       " '__version__': '1.0',\n",
       " '__globals__': [],\n",
       " 'X': array([[array([[0, 0, 0, ..., 0, 0, 0],\n",
       "                [0, 0, 0, ..., 0, 0, 0],\n",
       "                [0, 0, 0, ..., 0, 0, 0],\n",
       "                ...,\n",
       "                [0, 0, 0, ..., 0, 0, 0],\n",
       "                [0, 0, 0, ..., 0, 0, 0],\n",
       "                [0, 0, 0, ..., 0, 0, 0]], dtype=uint8),\n",
       "         array([[0, 0, 0, ..., 0, 0, 0],\n",
       "                [0, 0, 0, ..., 0, 0, 0],\n",
       "                [0, 0, 0, ..., 0, 0, 0],\n",
       "                ...,\n",
       "                [0, 0, 0, ..., 0, 0, 0],\n",
       "                [0, 0, 0, ..., 0, 0, 0],\n",
       "                [0, 0, 0, ..., 0, 0, 0]], dtype=uint8)]], dtype=object),\n",
       " 'truth': array([[ 1],\n",
       "        [ 1],\n",
       "        [ 1],\n",
       "        ...,\n",
       "        [10],\n",
       "        [10],\n",
       "        [10]], dtype=uint8)}"
      ]
     },
     "execution_count": 4,
     "metadata": {},
     "output_type": "execute_result"
    }
   ],
   "source": [
    "import torch"
   ]
  },
  {
   "cell_type": "code",
   "execution_count": 13,
   "metadata": {},
   "outputs": [
    {
     "data": {
      "text/plain": [
       "array([[ 1],\n",
       "       [ 1],\n",
       "       [ 1],\n",
       "       ...,\n",
       "       [10],\n",
       "       [10],\n",
       "       [10]], dtype=uint8)"
      ]
     },
     "execution_count": 13,
     "metadata": {},
     "output_type": "execute_result"
    }
   ],
   "source": [
    "d['truth']"
   ]
  },
  {
   "cell_type": "code",
   "execution_count": 15,
   "metadata": {},
   "outputs": [
    {
     "data": {
      "text/plain": [
       "(256, 10000)"
      ]
     },
     "execution_count": 15,
     "metadata": {},
     "output_type": "execute_result"
    }
   ],
   "source": [
    "d['X'][0][1].shape"
   ]
  }
 ],
 "metadata": {
  "kernelspec": {
   "display_name": "Python 3",
   "language": "python",
   "name": "python3"
  },
  "language_info": {
   "codemirror_mode": {
    "name": "ipython",
    "version": 3
   },
   "file_extension": ".py",
   "mimetype": "text/x-python",
   "name": "python",
   "nbconvert_exporter": "python",
   "pygments_lexer": "ipython3",
   "version": "3.8.5"
  }
 },
 "nbformat": 4,
 "nbformat_minor": 4
}