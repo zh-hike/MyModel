{
 "cells": [
  {
   "cell_type": "code",
   "execution_count": 20,
   "metadata": {},
   "outputs": [],
   "source": [
    "from torch.utils.data import Dataset, DataLoader\n",
    "\n",
    "class Data(Dataset):\n",
    "    def __init__(self):\n",
    "        self.label = [1,2,3,4,5,6,7,8,9,10]\n",
    "        \n",
    "        \n",
    "    def __getitem__(self, item):\n",
    "        return self.label[item]\n",
    "    \n",
    "    def __len__(self):\n",
    "        return 10\n",
    "    \n",
    "data = Data()\n",
    "dataloader = DataLoader(data, shuffle=True, batch_size=10)"
   ]
  },
  {
   "cell_type": "code",
   "execution_count": 11,
   "metadata": {},
   "outputs": [
    {
     "data": {
      "text/plain": [
       "[1, 2, 3, 4, 5, 6, 7, 8, 9, 10]"
      ]
     },
     "execution_count": 11,
     "metadata": {},
     "output_type": "execute_result"
    }
   ],
   "source": [
    "dataloader.dataset.label"
   ]
  },
  {
   "cell_type": "code",
   "execution_count": 25,
   "metadata": {},
   "outputs": [
    {
     "name": "stdout",
     "output_type": "stream",
     "text": [
      "tensor([ 6,  4,  1,  3, 10,  5,  9,  2,  8,  7])\n",
      "tensor([ 3,  8, 10,  5,  9,  1,  4,  7,  6,  2])\n",
      "tensor([ 2,  7,  1,  6,  9,  5,  3,  8,  4, 10])\n"
     ]
    }
   ],
   "source": [
    "for epoch in range(3):\n",
    "    for batch, (labels) in enumerate(dataloader):\n",
    "        print(labels)"
   ]
  }
 ],
 "metadata": {
  "kernelspec": {
   "display_name": "Python 3",
   "language": "python",
   "name": "python3"
  },
  "language_info": {
   "codemirror_mode": {
    "name": "ipython",
    "version": 3
   },
   "file_extension": ".py",
   "mimetype": "text/x-python",
   "name": "python",
   "nbconvert_exporter": "python",
   "pygments_lexer": "ipython3",
   "version": "3.8.5"
  }
 },
 "nbformat": 4,
 "nbformat_minor": 4
}
