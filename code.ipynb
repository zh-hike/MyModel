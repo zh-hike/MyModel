{
 "cells": [
  {
   "cell_type": "code",
   "execution_count": 5,
   "metadata": {},
   "outputs": [],
   "source": [
    "torch.triu?"
   ]
  },
  {
   "cell_type": "code",
   "execution_count": 13,
   "metadata": {},
   "outputs": [],
   "source": [
    "\n",
    "\n",
    "def weight_init(m):\n",
    "    classname = m.__class__.__name__\n",
    "    print(classname)\n",
    "    if classname.find('Linear'):\n",
    "        print(1)"
   ]
  },
  {
   "cell_type": "code",
   "execution_count": 15,
   "metadata": {},
   "outputs": [],
   "source": [
    "import torch.nn as nn\n",
    "\n",
    "class net(nn.Module):\n",
    "    def __init__(self):\n",
    "        super(net, self).__init__()\n",
    "        self.n = nn.Sequential(\n",
    "            nn.Linear(10,10),\n",
    "            nn.BatchNorm1d(10),\n",
    "            nn.ReLU(inplace=True),\n",
    "            \n",
    "        )\n",
    "        \n",
    "    def forward(self,x):\n",
    "        return x"
   ]
  },
  {
   "cell_type": "code",
   "execution_count": 30,
   "metadata": {},
   "outputs": [
    {
     "ename": "TypeError",
     "evalue": "linalg_norm() received an invalid combination of arguments - got (Tensor, p=str, dim=int), but expected one of:\n * (Tensor input, Number ord, tuple of ints dim, bool keepdim, *, torch.dtype dtype, Tensor out)\n * (Tensor input, str ord, tuple of ints dim, bool keepdim, *, torch.dtype dtype, Tensor out)\n",
     "output_type": "error",
     "traceback": [
      "\u001b[0;31m---------------------------------------------------------------------------\u001b[0m",
      "\u001b[0;31mTypeError\u001b[0m                                 Traceback (most recent call last)",
      "\u001b[0;32m<ipython-input-30-abc016051fcf>\u001b[0m in \u001b[0;36m<module>\u001b[0;34m\u001b[0m\n\u001b[0;32m----> 1\u001b[0;31m \u001b[0mtorch\u001b[0m\u001b[0;34m.\u001b[0m\u001b[0mlinalg\u001b[0m\u001b[0;34m.\u001b[0m\u001b[0mnorm\u001b[0m\u001b[0;34m(\u001b[0m\u001b[0md\u001b[0m\u001b[0;34m,\u001b[0m\u001b[0mdim\u001b[0m\u001b[0;34m=\u001b[0m\u001b[0;36m2\u001b[0m\u001b[0;34m,\u001b[0m\u001b[0mp\u001b[0m\u001b[0;34m=\u001b[0m\u001b[0;34m'fro'\u001b[0m\u001b[0;34m)\u001b[0m\u001b[0;34m\u001b[0m\u001b[0;34m\u001b[0m\u001b[0m\n\u001b[0m",
      "\u001b[0;31mTypeError\u001b[0m: linalg_norm() received an invalid combination of arguments - got (Tensor, p=str, dim=int), but expected one of:\n * (Tensor input, Number ord, tuple of ints dim, bool keepdim, *, torch.dtype dtype, Tensor out)\n * (Tensor input, str ord, tuple of ints dim, bool keepdim, *, torch.dtype dtype, Tensor out)\n"
     ]
    }
   ],
   "source": [
    "torch.linalg.norm(d,dim=2,p='fro')"
   ]
  },
  {
   "cell_type": "code",
   "execution_count": 39,
   "metadata": {},
   "outputs": [
    {
     "data": {
      "text/plain": [
       "tensor([[1.0000, 0.9564, 0.9518, 0.9190, 0.9497, 0.9250, 0.8895, 0.9361, 0.9048,\n",
       "         0.9564],\n",
       "        [0.9564, 1.0000, 0.9238, 0.9247, 0.9488, 0.9191, 0.8732, 0.9053, 0.8841,\n",
       "         0.9684],\n",
       "        [0.9518, 0.9238, 1.0000, 0.8832, 0.9274, 0.8975, 0.8937, 0.9585, 0.8909,\n",
       "         0.9220],\n",
       "        [0.9190, 0.9247, 0.8832, 1.0000, 0.9206, 0.9160, 0.8611, 0.8650, 0.8805,\n",
       "         0.9094],\n",
       "        [0.9497, 0.9488, 0.9274, 0.9206, 1.0000, 0.8962, 0.8560, 0.8981, 0.8648,\n",
       "         0.9315],\n",
       "        [0.9250, 0.9191, 0.8975, 0.9160, 0.8962, 1.0000, 0.9219, 0.8937, 0.9432,\n",
       "         0.9166],\n",
       "        [0.8895, 0.8732, 0.8937, 0.8611, 0.8560, 0.9219, 1.0000, 0.8981, 0.9414,\n",
       "         0.8718],\n",
       "        [0.9361, 0.9053, 0.9585, 0.8650, 0.8981, 0.8937, 0.8981, 1.0000, 0.9033,\n",
       "         0.9161],\n",
       "        [0.9048, 0.8841, 0.8909, 0.8805, 0.8648, 0.9432, 0.9414, 0.9033, 1.0000,\n",
       "         0.8910],\n",
       "        [0.9564, 0.9684, 0.9220, 0.9094, 0.9315, 0.9166, 0.8718, 0.9161, 0.8910,\n",
       "         1.0000]])"
      ]
     },
     "execution_count": 39,
     "metadata": {},
     "output_type": "execute_result"
    }
   ],
   "source": [
    "d = torch.randn((10,5))\n",
    "d = d - d.unsqueeze(1)\n",
    "K = torch.sqrt((d**2).sum(dim=2))\n",
    "K = -1*K/(2*(4**2))\n",
    "K = torch.exp(K)\n",
    "K"
   ]
  }
 ],
 "metadata": {
  "kernelspec": {
   "display_name": "Python 3",
   "language": "python",
   "name": "python3"
  },
  "language_info": {
   "codemirror_mode": {
    "name": "ipython",
    "version": 3
   },
   "file_extension": ".py",
   "mimetype": "text/x-python",
   "name": "python",
   "nbconvert_exporter": "python",
   "pygments_lexer": "ipython3",
   "version": "3.8.5"
  }
 },
 "nbformat": 4,
 "nbformat_minor": 4
}
